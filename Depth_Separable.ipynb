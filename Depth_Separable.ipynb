{
 "cells": [
  {
   "cell_type": "code",
   "execution_count": 0,
   "metadata": {
    "colab": {
     "base_uri": "https://localhost:8080/",
     "height": 51
    },
    "colab_type": "code",
    "id": "F2aYyvbDuIvN",
    "outputId": "7da611fd-1d63-4c80-a66b-67c0ed5328ff"
   },
   "outputs": [
    {
     "name": "stderr",
     "output_type": "stream",
     "text": [
      "Using TensorFlow backend.\n"
     ]
    },
    {
     "name": "stdout",
     "output_type": "stream",
     "text": [
      "1.14.0\n"
     ]
    }
   ],
   "source": [
    "from keras.models import Sequential, Model\n",
    "from keras.applications.vgg16 import VGG16, preprocess_input\n",
    "from keras.preprocessing.image import ImageDataGenerator,load_img, img_to_array\n",
    "from keras.layers import Conv2D, MaxPooling2D, Dense, Dropout, Input, Flatten, SeparableConv2D, DepthwiseConv2D\n",
    "from keras.layers import GlobalMaxPooling2D\n",
    "from keras.layers.normalization import BatchNormalization\n",
    "from keras.layers.merge import Concatenate\n",
    "from keras.models import Model\n",
    "from keras.optimizers import Adam, SGD, RMSprop\n",
    "from keras.callbacks import ModelCheckpoint, Callback, EarlyStopping\n",
    "from keras.utils import to_categorical\n",
    "from sklearn.model_selection import train_test_split\n",
    "from sklearn.preprocessing import StandardScaler\n",
    "from mlxtend.plotting import plot_confusion_matrix\n",
    "from sklearn.metrics import confusion_matrix\n",
    "import numpy as np\n",
    "import pandas as pd\n",
    "import cv2\n",
    "from keras import backend as K\n",
    "import os\n",
    "import glob\n",
    "import h5py\n",
    "import shutil as cf\n",
    "import seaborn as sns\n",
    "import matplotlib.pyplot as plt\n",
    "import matplotlib.image as mimg\n",
    "import tensorflow as tf\n",
    "import keras\n",
    "print(tf.__version__)\n",
    "%matplotlib inline"
   ]
  },
  {
   "cell_type": "code",
   "execution_count": 0,
   "metadata": {
    "colab": {},
    "colab_type": "code",
    "id": "d5tOZxr5sv8A"
   },
   "outputs": [],
   "source": [
    "#install depenencies\n",
    "!pip install -q kaggle"
   ]
  },
  {
   "cell_type": "code",
   "execution_count": null,
   "metadata": {
    "colab": {
     "base_uri": "https://localhost:8080/",
     "height": 88,
     "resources": {
      "http://localhost:8080/nbextensions/google.colab/files.js": {
       "data": "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",
       "headers": [
        [
         "content-type",
         "application/javascript"
        ]
       ],
       "ok": true,
       "status": 200,
       "status_text": ""
      }
     }
    },
    "colab_type": "code",
    "id": "YhSXJXFms7vS",
    "outputId": "e45b66d7-aa27-44f1-e25b-5d155e3090c0"
   },
   "outputs": [],
   "source": [
    "#upload the credentials of the kaggle account\n",
    "from google.colab import files\n",
    "files.upload()"
   ]
  },
  {
   "cell_type": "code",
   "execution_count": 0,
   "metadata": {
    "colab": {},
    "colab_type": "code",
    "id": "Y4xHgjQys_v_"
   },
   "outputs": [],
   "source": [
    "#before importing the dataset we want to use this code\n",
    "# The Kaggle API client expects this file to be in ~/.kaggle,\n",
    "!mkdir -p ~/.kaggle\n",
    "!cp kaggle.json ~/.kaggle/\n",
    "\n",
    "# This permissions change avoids a warning on Kaggle tool startup.\n",
    "!chmod 600 ~/.kaggle/kaggle.json"
   ]
  },
  {
   "cell_type": "code",
   "execution_count": 0,
   "metadata": {
    "colab": {
     "base_uri": "https://localhost:8080/",
     "height": 272
    },
    "colab_type": "code",
    "id": "8kOQSTwgtFS_",
    "outputId": "a06e7b81-8375-480e-8841-43c2992c7adf"
   },
   "outputs": [
    {
     "name": "stdout",
     "output_type": "stream",
     "text": [
      "Downloading train_images.zip to /content\n",
      "100% 8.01G/8.01G [02:34<00:00, 47.2MB/s]\n",
      "\n",
      "Downloading test_images.zip to /content\n",
      " 99% 1.48G/1.50G [00:25<00:00, 45.2MB/s]\n",
      "100% 1.50G/1.50G [00:25<00:00, 62.8MB/s]\n",
      "Downloading train.csv to /content\n",
      "  0% 0.00/53.7k [00:00<?, ?B/s]\n",
      "100% 53.7k/53.7k [00:00<00:00, 55.2MB/s]\n",
      "Downloading test.csv to /content\n",
      "  0% 0.00/24.5k [00:00<?, ?B/s]\n",
      "100% 24.5k/24.5k [00:00<00:00, 27.6MB/s]\n",
      "Downloading sample_submission.csv to /content\n",
      "  0% 0.00/28.3k [00:00<?, ?B/s]\n",
      "100% 28.3k/28.3k [00:00<00:00, 29.4MB/s]\n"
     ]
    }
   ],
   "source": [
    "#import the dataset we want to use for our project\n",
    "!kaggle competitions download -c aptos2019-blindness-detection"
   ]
  },
  {
   "cell_type": "code",
   "execution_count": 0,
   "metadata": {
    "colab": {
     "base_uri": "https://localhost:8080/",
     "height": 51
    },
    "colab_type": "code",
    "id": "eBy1lpPStIjv",
    "outputId": "b353b566-7bcf-42b8-9034-369ec6e3db8b"
   },
   "outputs": [
    {
     "name": "stdout",
     "output_type": "stream",
     "text": [
      "kaggle.json  sample_submission.csv  test_images.zip  train_images.zip\n",
      "sample_data  test.csv\t\t    train.csv\n"
     ]
    }
   ],
   "source": [
    "#lets see the imported files from kaggle competetion\n",
    "!ls"
   ]
  },
  {
   "cell_type": "code",
   "execution_count": 0,
   "metadata": {
    "colab": {},
    "colab_type": "code",
    "id": "a_dfkzE0tNF9"
   },
   "outputs": [],
   "source": [
    "!unzip train_images.zip -d ./Train_Images"
   ]
  },
  {
   "cell_type": "code",
   "execution_count": 0,
   "metadata": {
    "colab": {},
    "colab_type": "code",
    "id": "b1J6w5ZRtQpZ"
   },
   "outputs": [],
   "source": [
    "!unzip test_images.zip -d ./Test_Images"
   ]
  },
  {
   "cell_type": "code",
   "execution_count": 0,
   "metadata": {
    "colab": {
     "base_uri": "https://localhost:8080/",
     "height": 204
    },
    "colab_type": "code",
    "id": "hZBFjTa0tXJV",
    "outputId": "0e201a64-7917-4236-dcc2-b90f194f9471"
   },
   "outputs": [
    {
     "data": {
      "text/html": [
       "<div>\n",
       "<style scoped>\n",
       "    .dataframe tbody tr th:only-of-type {\n",
       "        vertical-align: middle;\n",
       "    }\n",
       "\n",
       "    .dataframe tbody tr th {\n",
       "        vertical-align: top;\n",
       "    }\n",
       "\n",
       "    .dataframe thead th {\n",
       "        text-align: right;\n",
       "    }\n",
       "</style>\n",
       "<table border=\"1\" class=\"dataframe\">\n",
       "  <thead>\n",
       "    <tr style=\"text-align: right;\">\n",
       "      <th></th>\n",
       "      <th>id_code</th>\n",
       "      <th>diagnosis</th>\n",
       "    </tr>\n",
       "  </thead>\n",
       "  <tbody>\n",
       "    <tr>\n",
       "      <th>0</th>\n",
       "      <td>000c1434d8d7</td>\n",
       "      <td>2</td>\n",
       "    </tr>\n",
       "    <tr>\n",
       "      <th>1</th>\n",
       "      <td>001639a390f0</td>\n",
       "      <td>4</td>\n",
       "    </tr>\n",
       "    <tr>\n",
       "      <th>2</th>\n",
       "      <td>0024cdab0c1e</td>\n",
       "      <td>1</td>\n",
       "    </tr>\n",
       "    <tr>\n",
       "      <th>3</th>\n",
       "      <td>002c21358ce6</td>\n",
       "      <td>0</td>\n",
       "    </tr>\n",
       "    <tr>\n",
       "      <th>4</th>\n",
       "      <td>005b95c28852</td>\n",
       "      <td>0</td>\n",
       "    </tr>\n",
       "  </tbody>\n",
       "</table>\n",
       "</div>"
      ],
      "text/plain": [
       "        id_code  diagnosis\n",
       "0  000c1434d8d7          2\n",
       "1  001639a390f0          4\n",
       "2  0024cdab0c1e          1\n",
       "3  002c21358ce6          0\n",
       "4  005b95c28852          0"
      ]
     },
     "execution_count": 13,
     "metadata": {
      "tags": []
     },
     "output_type": "execute_result"
    }
   ],
   "source": [
    "import pandas as pd\n",
    "\n",
    "df_train = pd.read_csv('train.csv')\n",
    "df_train.head()"
   ]
  },
  {
   "cell_type": "code",
   "execution_count": 0,
   "metadata": {
    "colab": {
     "base_uri": "https://localhost:8080/",
     "height": 204
    },
    "colab_type": "code",
    "id": "xIF6PxKhtYax",
    "outputId": "8c6a53d3-dbef-4964-afca-ddf879c938f7"
   },
   "outputs": [
    {
     "data": {
      "text/html": [
       "<div>\n",
       "<style scoped>\n",
       "    .dataframe tbody tr th:only-of-type {\n",
       "        vertical-align: middle;\n",
       "    }\n",
       "\n",
       "    .dataframe tbody tr th {\n",
       "        vertical-align: top;\n",
       "    }\n",
       "\n",
       "    .dataframe thead th {\n",
       "        text-align: right;\n",
       "    }\n",
       "</style>\n",
       "<table border=\"1\" class=\"dataframe\">\n",
       "  <thead>\n",
       "    <tr style=\"text-align: right;\">\n",
       "      <th></th>\n",
       "      <th>id_code</th>\n",
       "    </tr>\n",
       "  </thead>\n",
       "  <tbody>\n",
       "    <tr>\n",
       "      <th>0</th>\n",
       "      <td>0005cfc8afb6</td>\n",
       "    </tr>\n",
       "    <tr>\n",
       "      <th>1</th>\n",
       "      <td>003f0afdcd15</td>\n",
       "    </tr>\n",
       "    <tr>\n",
       "      <th>2</th>\n",
       "      <td>006efc72b638</td>\n",
       "    </tr>\n",
       "    <tr>\n",
       "      <th>3</th>\n",
       "      <td>00836aaacf06</td>\n",
       "    </tr>\n",
       "    <tr>\n",
       "      <th>4</th>\n",
       "      <td>009245722fa4</td>\n",
       "    </tr>\n",
       "  </tbody>\n",
       "</table>\n",
       "</div>"
      ],
      "text/plain": [
       "        id_code\n",
       "0  0005cfc8afb6\n",
       "1  003f0afdcd15\n",
       "2  006efc72b638\n",
       "3  00836aaacf06\n",
       "4  009245722fa4"
      ]
     },
     "execution_count": 14,
     "metadata": {
      "tags": []
     },
     "output_type": "execute_result"
    }
   ],
   "source": [
    "df_test = pd.read_csv('test.csv')\n",
    "df_test.head()"
   ]
  },
  {
   "cell_type": "code",
   "execution_count": 0,
   "metadata": {
    "colab": {
     "base_uri": "https://localhost:8080/",
     "height": 420
    },
    "colab_type": "code",
    "id": "OO44wWvRteXd",
    "outputId": "8eb3d97e-5048-4ced-c572-8355be55156d"
   },
   "outputs": [
    {
     "name": "stdout",
     "output_type": "stream",
     "text": [
      "0    1805\n",
      "2     999\n",
      "1     370\n",
      "4     295\n",
      "3     193\n",
      "Name: diagnosis, dtype: int64\n",
      "\n"
     ]
    },
    {
     "data": {
      "image/png": "[encoded data removed]",
      "text/plain": [
       "<Figure size 432x288 with 1 Axes>"
      ]
     },
     "metadata": {
      "tags": []
     },
     "output_type": "display_data"
    }
   ],
   "source": [
    "import seaborn as sns\n",
    "import matplotlib.pyplot as plt\n",
    "Class_Frequency_Count = df_train['diagnosis'].value_counts()\n",
    "print(str(Class_Frequency_Count) + \"\\n\")\n",
    "sns.set(style=\"darkgrid\")\n",
    "sns.barplot(Class_Frequency_Count.index,Class_Frequency_Count.values,alpha=0.9)\n",
    "plt.title(\"Frequency Distribution of Classes\")\n",
    "plt.ylabel(\"Number of Occurances\", fontsize=12)\n",
    "#plt.xticks(rotation=90)\n",
    "plt.xlabel(\"Classes\", fontsize=12)\n",
    "plt.show()"
   ]
  },
  {
   "cell_type": "code",
   "execution_count": 0,
   "metadata": {
    "colab": {},
    "colab_type": "code",
    "id": "VdMEv2jvvu62"
   },
   "outputs": [],
   "source": [
    "!rm -rf Training_Dir\n",
    "!rm -rf Validation_Dir"
   ]
  },
  {
   "cell_type": "code",
   "execution_count": 0,
   "metadata": {
    "colab": {
     "base_uri": "https://localhost:8080/",
     "height": 420
    },
    "colab_type": "code",
    "id": "Zf_5j9FBfkOG",
    "outputId": "6f1de3a3-0b30-47e3-c1f2-4b1af5b72dc4"
   },
   "outputs": [
    {
     "name": "stdout",
     "output_type": "stream",
     "text": [
      "0    1805\n",
      "2     999\n",
      "1     740\n",
      "4     735\n",
      "3     673\n",
      "Name: diagnosis, dtype: int64\n",
      "\n"
     ]
    },
    {
     "data": {
      "image/png": "[encoded data removed]",
      "text/plain": [
       "<Figure size 432x288 with 1 Axes>"
      ]
     },
     "metadata": {
      "tags": []
     },
     "output_type": "display_data"
    }
   ],
   "source": [
    "tempDiag = df_train['diagnosis'].tolist()\n",
    "tempImag = df_train['id_code'].tolist()\n",
    "imgTmp1 = []\n",
    "imgTmp3 = []\n",
    "imgTmp4 = []\n",
    "count1=0\n",
    "for i in range(len(tempDiag)):\n",
    "  if tempDiag[i] == 1:\n",
    "    count1 = count1+1\n",
    "    imgTmp1.append(tempImag[i])\n",
    "  elif tempDiag[i] == 3:\n",
    "    imgTmp3.append(tempImag[i])\n",
    "  elif tempDiag[i] == 4:\n",
    "    imgTmp4.append(tempImag[i])\n",
    "    \n",
    "from PIL import Image\n",
    "from PIL import ImageFilter\n",
    "\n",
    "\n",
    "class_labels = []\n",
    "added_images = []\n",
    "imgTmp=[]\n",
    "kl = [1,3,4]\n",
    "for l in kl:\n",
    "  if l == 1:\n",
    "    imgTmp = imgTmp1[: int(len(imgTmp1) * .2)]\n",
    "  elif l == 3:\n",
    "    imgTmp = imgTmp3[: int(len(imgTmp3) * .50)]\n",
    "  elif l == 4:\n",
    "    imgTmp = imgTmp4[: int(len(imgTmp4) * .3)]\n",
    "  for imagefile in imgTmp:\n",
    "    \n",
    "    \n",
    "    ext = '.png'\n",
    "    imagefile_ext = imagefile  + ext\n",
    "    path = 'Train_Images/'\n",
    "    imfile = path+imagefile_ext\n",
    "    im=Image.open(imfile)\n",
    "    im=im.convert(\"RGB\")\n",
    "    r,g,b=im.split()\n",
    "    r=r.convert(\"RGB\")\n",
    "    g=g.convert(\"RGB\")\n",
    "    b=b.convert(\"RGB\")\n",
    "    im_blur=im.filter(ImageFilter.GaussianBlur)\n",
    "    im_unsharp=im.filter(ImageFilter.UnsharpMask)\n",
    "\n",
    "    \n",
    "    im_r = 'r_'+imagefile\n",
    "    im_g = 'g_'+imagefile\n",
    "    im_b = 'b_'+imagefile\n",
    "    im_bl = 'bl_'+imagefile\n",
    "    im_un = 'un_'+imagefile\n",
    "    r.save(path+im_r+ext)\n",
    "    g.save(path+im_g+ext)\n",
    "    b.save(path+im_b+ext)\n",
    "    im_blur.save(path+im_bl+ext)\n",
    "    im_unsharp.save(path+im_un+ext)\n",
    "    class_labels.append(l)\n",
    "    added_images.append(im_r)\n",
    "    class_labels.append(l)\n",
    "    added_images.append(im_g)\n",
    "    class_labels.append(l)\n",
    "    added_images.append(im_b)\n",
    "    class_labels.append(l)\n",
    "    added_images.append(im_bl)\n",
    "    class_labels.append(l)\n",
    "    added_images.append(im_un)\n",
    "\n",
    "tempDiag = tempDiag + class_labels\n",
    "tempImag = tempImag + added_images\n",
    "df_train = pd.DataFrame(list(zip(tempImag,tempDiag)), \n",
    "               columns =['id_code', 'diagnosis'])\n",
    "\n",
    "df_train = df_train.sample(frac=1).reset_index(drop=True)\n",
    "\n",
    "Class_Frequency_Count = df_train['diagnosis'].value_counts()\n",
    "print(str(Class_Frequency_Count) + \"\\n\")\n",
    "sns.set(style=\"darkgrid\")\n",
    "sns.barplot(Class_Frequency_Count.index,Class_Frequency_Count.values,alpha=0.9)\n",
    "plt.title(\"Frequency Distribution of Classes\")\n",
    "plt.ylabel(\"Number of Occurances\", fontsize=12)\n",
    "#plt.xticks(rotation=90)\n",
    "plt.xlabel(\"Classes\", fontsize=12)\n",
    "plt.show()"
   ]
  },
  {
   "cell_type": "code",
   "execution_count": 0,
   "metadata": {
    "colab": {},
    "colab_type": "code",
    "id": "_jgTzUN8voSA"
   },
   "outputs": [],
   "source": [
    "#df_train = df_train.sample(frac=1).reset_index(drop=True)"
   ]
  },
  {
   "cell_type": "code",
   "execution_count": 0,
   "metadata": {
    "colab": {},
    "colab_type": "code",
    "id": "FqXfm_fSt2z1"
   },
   "outputs": [],
   "source": [
    "split = int(0.7 * len(df_train))\n",
    "\n",
    "train_dataframe = df_train.iloc[:split]\n",
    "val_dataframe = df_train.iloc[split:]\n",
    "\n",
    "train_images = train_dataframe['id_code'].tolist()\n",
    "train_labels = train_dataframe['diagnosis'].tolist()\n",
    "val_images = val_dataframe['id_code'].tolist()\n",
    "val_labels = val_dataframe['diagnosis'].tolist()"
   ]
  },
  {
   "cell_type": "code",
   "execution_count": 0,
   "metadata": {
    "colab": {
     "base_uri": "https://localhost:8080/",
     "height": 823
    },
    "colab_type": "code",
    "id": "nlnlMLNTwHXc",
    "outputId": "e979e90a-d696-4607-8f92-7044a3451bf8"
   },
   "outputs": [
    {
     "name": "stdout",
     "output_type": "stream",
     "text": [
      "0    1250\n",
      "2     735\n",
      "1     530\n",
      "4     490\n",
      "3     461\n",
      "Name: diagnosis, dtype: int64\n",
      "\n"
     ]
    },
    {
     "data": {
      "image/png": "[encoded data removed]",
      "text/plain": [
       "<Figure size 432x288 with 1 Axes>"
      ]
     },
     "metadata": {
      "tags": []
     },
     "output_type": "display_data"
    },
    {
     "name": "stdout",
     "output_type": "stream",
     "text": [
      "0    555\n",
      "2    264\n",
      "4    245\n",
      "3    212\n",
      "1    210\n",
      "Name: diagnosis, dtype: int64\n",
      "\n"
     ]
    },
    {
     "data": {
      "image/png": "[encoded data removed]",
      "text/plain": [
       "<Figure size 432x288 with 1 Axes>"
      ]
     },
     "metadata": {
      "tags": []
     },
     "output_type": "display_data"
    }
   ],
   "source": [
    "Train_Class_Frequency_Count = train_dataframe['diagnosis'].value_counts()\n",
    "print(str(Train_Class_Frequency_Count) + \"\\n\")\n",
    "sns.set(style=\"darkgrid\")\n",
    "sns.barplot(Train_Class_Frequency_Count.index,Train_Class_Frequency_Count.values,alpha=0.9)\n",
    "plt.title(\"Frequency Distribution of Classes\")\n",
    "plt.ylabel(\"Number of Occurances\", fontsize=12)\n",
    "#plt.xticks(rotation=90)\n",
    "plt.xlabel(\"Classes\", fontsize=12)\n",
    "plt.show()\n",
    "\n",
    "\n",
    "Val_Class_Frequency_Count = val_dataframe['diagnosis'].value_counts()\n",
    "print(str(Val_Class_Frequency_Count) + \"\\n\")\n",
    "sns.set(style=\"darkgrid\")\n",
    "sns.barplot(Val_Class_Frequency_Count.index,Val_Class_Frequency_Count.values,alpha=0.9)\n",
    "plt.title(\"Frequency Distribution of Classes\")\n",
    "plt.ylabel(\"Number of Occurances\", fontsize=12)\n",
    "#plt.xticks(rotation=90)\n",
    "plt.xlabel(\"Classes\", fontsize=12)\n",
    "plt.show()"
   ]
  },
  {
   "cell_type": "code",
   "execution_count": 0,
   "metadata": {
    "colab": {},
    "colab_type": "code",
    "id": "cdoyjN9yv3Lj"
   },
   "outputs": [],
   "source": [
    "train_keyword = 'Training_Dir'\n",
    "validation_keyword = 'Validation_Dir'\n",
    "keywords = [train_keyword,validation_keyword]\n",
    "dir_list = df_train['diagnosis'].tolist()\n",
    "\n",
    "for keyword in keywords:\n",
    "  if(not os.path.exists(keyword)):\n",
    "    os.mkdir(keyword)\n",
    "  for class_dir in dir_list:\n",
    "    if(not os.path.exists(keyword+'/'+str(class_dir))):\n",
    "      os.mkdir(keyword+'/'+str(class_dir))"
   ]
  },
  {
   "cell_type": "code",
   "execution_count": 0,
   "metadata": {
    "colab": {},
    "colab_type": "code",
    "id": "LSy5fYNSxvqe"
   },
   "outputs": [],
   "source": [
    "for keyword in keywords:\n",
    "  image_list = []\n",
    "  class_list = []\n",
    "  if(not os.path.exists(keyword)):\n",
    "    os.mkdir(keyword)\n",
    "  if keyword == train_keyword:\n",
    "    image_list = train_images\n",
    "    class_list = train_labels\n",
    "  elif keyword == validation_keyword: \n",
    "    image_list = val_images\n",
    "    class_list = val_labels\n",
    "  for image_info in image_list:\n",
    "    cl = class_list[image_list.index(image_info)]\n",
    "    cf.copy('Train_Images/'+str(image_info)+'.png', keyword+'/'+str(cl))"
   ]
  },
  {
   "cell_type": "code",
   "execution_count": 0,
   "metadata": {
    "colab": {
     "base_uri": "https://localhost:8080/",
     "height": 51
    },
    "colab_type": "code",
    "id": "OmglOjyot3YI",
    "outputId": "ab9c1540-3751-4e96-c09e-3ed885f4a473"
   },
   "outputs": [
    {
     "name": "stdout",
     "output_type": "stream",
     "text": [
      "Found 3466 images belonging to 5 classes.\n",
      "Found 1486 images belonging to 5 classes.\n"
     ]
    }
   ],
   "source": [
    "train_dir = 'Training_Dir'\n",
    "validation_dir = 'Validation_Dir'\n",
    "\n",
    "train_datagen = ImageDataGenerator(\n",
    "      rescale=1./255,\n",
    "      rotation_range=15,\n",
    "      width_shift_range=0.3,\n",
    "      height_shift_range=0.3,\n",
    "      horizontal_flip=True,\n",
    "      fill_mode='nearest')\n",
    "\n",
    "\n",
    "validation_datagen = ImageDataGenerator(rescale=1./255)\n",
    " \n",
    "# Change the batchsize according to your system RAM\n",
    "train_batchsize = 100\n",
    "val_batchsize = 50\n",
    " \n",
    "train_generator = train_datagen.flow_from_directory(\n",
    "        train_dir,\n",
    "        target_size=(224, 224),\n",
    "        batch_size=train_batchsize,\n",
    "        class_mode='categorical')\n",
    " \n",
    "validation_generator = validation_datagen.flow_from_directory(\n",
    "        validation_dir,\n",
    "        target_size=(224, 224),\n",
    "        batch_size=val_batchsize,\n",
    "        class_mode='categorical',\n",
    "        shuffle=False)"
   ]
  },
  {
   "cell_type": "code",
   "execution_count": 0,
   "metadata": {
    "colab": {},
    "colab_type": "code",
    "id": "c3psABK9t36e"
   },
   "outputs": [],
   "source": []
  },
  {
   "cell_type": "code",
   "execution_count": 0,
   "metadata": {
    "colab": {},
    "colab_type": "code",
    "id": "IVPhvUMOt4d7"
   },
   "outputs": [],
   "source": [
    "\n",
    "def build_model():\n",
    "    input_img = Input(shape=(224,224,3), name='ImageInput')\n",
    "    x = Conv2D(64, (3,3), activation='relu', padding='same', name='Conv1')(input_img)\n",
    "    x = MaxPooling2D((2,2), name='pool1')(x)\n",
    "    \n",
    "    x = SeparableConv2D(128, (3,3), activation='relu', padding='same', name='Conv2')(x)\n",
    "    x = BatchNormalization(name='bn2')(x)\n",
    "    x = MaxPooling2D((2,2), name='pool2')(x)\n",
    "    \n",
    "    x = SeparableConv2D(256, (3,3), activation='relu', padding='same', name='Conv3')(x)\n",
    "    x = BatchNormalization(name='bn3')(x)\n",
    "    x = MaxPooling2D((2,2), name='pool3')(x)\n",
    "    \n",
    "    x = Flatten(name='flatten')(x)\n",
    "    x = Dense(125, activation='relu', name='fc2')(x)\n",
    "    x = Dropout(0.5, name='dropout2')(x)\n",
    "    x = Dense(5, activation='softmax', name='fc3')(x)\n",
    "    \n",
    "    model = Model(inputs=input_img, outputs=x)\n",
    "    return model"
   ]
  },
  {
   "cell_type": "code",
   "execution_count": 0,
   "metadata": {
    "colab": {
     "base_uri": "https://localhost:8080/",
     "height": 578
    },
    "colab_type": "code",
    "id": "tZZk6wRu-JSU",
    "outputId": "9251f7a3-aedc-451c-fe95-c8f0ae2bd907"
   },
   "outputs": [
    {
     "name": "stdout",
     "output_type": "stream",
     "text": [
      "_________________________________________________________________\n",
      "Layer (type)                 Output Shape              Param #   \n",
      "=================================================================\n",
      "ImageInput (InputLayer)      (None, 224, 224, 3)       0         \n",
      "_________________________________________________________________\n",
      "Conv1 (Conv2D)               (None, 224, 224, 64)      1792      \n",
      "_________________________________________________________________\n",
      "pool1 (MaxPooling2D)         (None, 112, 112, 64)      0         \n",
      "_________________________________________________________________\n",
      "Conv2 (SeparableConv2D)      (None, 112, 112, 128)     8896      \n",
      "_________________________________________________________________\n",
      "bn2 (BatchNormalization)     (None, 112, 112, 128)     512       \n",
      "_________________________________________________________________\n",
      "pool2 (MaxPooling2D)         (None, 56, 56, 128)       0         \n",
      "_________________________________________________________________\n",
      "Conv3 (SeparableConv2D)      (None, 56, 56, 256)       34176     \n",
      "_________________________________________________________________\n",
      "bn3 (BatchNormalization)     (None, 56, 56, 256)       1024      \n",
      "_________________________________________________________________\n",
      "pool3 (MaxPooling2D)         (None, 28, 28, 256)       0         \n",
      "_________________________________________________________________\n",
      "flatten (Flatten)            (None, 200704)            0         \n",
      "_________________________________________________________________\n",
      "fc2 (Dense)                  (None, 125)               25088125  \n",
      "_________________________________________________________________\n",
      "dropout2 (Dropout)           (None, 125)               0         \n",
      "_________________________________________________________________\n",
      "fc3 (Dense)                  (None, 5)                 630       \n",
      "=================================================================\n",
      "Total params: 25,135,155\n",
      "Trainable params: 25,134,387\n",
      "Non-trainable params: 768\n",
      "_________________________________________________________________\n"
     ]
    }
   ],
   "source": [
    "model =  build_model()\n",
    "model.summary()"
   ]
  },
  {
   "cell_type": "code",
   "execution_count": 0,
   "metadata": {
    "colab": {},
    "colab_type": "code",
    "id": "F-LBxhwT2miY"
   },
   "outputs": [],
   "source": [
    "opt = SGD(lr=0.0001,momentum=0.9)\n",
    "model.compile(loss='categorical_crossentropy', metrics=['accuracy'],optimizer=opt)"
   ]
  },
  {
   "cell_type": "code",
   "execution_count": 0,
   "metadata": {
    "colab": {},
    "colab_type": "code",
    "id": "tXI2UOApKl-I"
   },
   "outputs": [],
   "source": [
    "!rm -rf Test_Images\n",
    "!rm -rf Train_Images"
   ]
  },
  {
   "cell_type": "code",
   "execution_count": 0,
   "metadata": {
    "colab": {
     "base_uri": "https://localhost:8080/",
     "height": 547
    },
    "colab_type": "code",
    "id": "I0XvU8Qz5Otq",
    "outputId": "eec475b5-29c3-4c81-8915-02cc52d8d78e"
   },
   "outputs": [
    {
     "name": "stdout",
     "output_type": "stream",
     "text": [
      "Epoch 1/15\n",
      "34/34 [==============================] - 623s 18s/step - loss: 1.4276 - acc: 0.3968 - val_loss: 1.2645 - val_acc: 0.5110\n",
      "Epoch 2/15\n",
      "34/34 [==============================] - 482s 14s/step - loss: 1.2736 - acc: 0.4778 - val_loss: 1.1950 - val_acc: 0.5125\n",
      "Epoch 3/15\n",
      "34/34 [==============================] - 482s 14s/step - loss: 1.2215 - acc: 0.5015 - val_loss: 1.1477 - val_acc: 0.5474\n",
      "Epoch 4/15\n",
      "34/34 [==============================] - 486s 14s/step - loss: 1.2016 - acc: 0.5085 - val_loss: 1.1271 - val_acc: 0.5515\n",
      "Epoch 5/15\n",
      "34/34 [==============================] - 476s 14s/step - loss: 1.1733 - acc: 0.5256 - val_loss: 1.0934 - val_acc: 0.5550\n",
      "Epoch 6/15\n",
      "34/34 [==============================] - 482s 14s/step - loss: 1.1494 - acc: 0.5365 - val_loss: 1.0895 - val_acc: 0.5655\n",
      "Epoch 7/15\n",
      "34/34 [==============================] - 482s 14s/step - loss: 1.1562 - acc: 0.5252 - val_loss: 1.0982 - val_acc: 0.5453\n",
      "Epoch 8/15\n",
      "34/34 [==============================] - 478s 14s/step - loss: 1.1458 - acc: 0.5305 - val_loss: 1.0608 - val_acc: 0.5752\n",
      "Epoch 9/15\n",
      "34/34 [==============================] - 483s 14s/step - loss: 1.1213 - acc: 0.5431 - val_loss: 1.0600 - val_acc: 0.5585\n",
      "Epoch 10/15\n",
      "34/34 [==============================] - 480s 14s/step - loss: 1.1316 - acc: 0.5381 - val_loss: 1.0598 - val_acc: 0.5717\n",
      "Epoch 11/15\n",
      "34/34 [==============================] - 498s 15s/step - loss: 1.1209 - acc: 0.5419 - val_loss: 1.0595 - val_acc: 0.5634\n",
      "Epoch 12/15\n",
      "34/34 [==============================] - 484s 14s/step - loss: 1.1185 - acc: 0.5455 - val_loss: 1.0572 - val_acc: 0.5613\n",
      "Epoch 13/15\n",
      "34/34 [==============================] - 487s 14s/step - loss: 1.1162 - acc: 0.5477 - val_loss: 1.0516 - val_acc: 0.5571\n",
      "Epoch 14/15\n",
      "34/34 [==============================] - 487s 14s/step - loss: 1.1102 - acc: 0.5628 - val_loss: 1.0484 - val_acc: 0.5648\n",
      "Epoch 15/15\n",
      "34/34 [==============================] - 481s 14s/step - loss: 1.1195 - acc: 0.5380 - val_loss: 1.0528 - val_acc: 0.5752\n"
     ]
    }
   ],
   "source": [
    "epochs = 15\n",
    "history = model.fit_generator(\n",
    "      train_generator,\n",
    "      steps_per_epoch=train_generator.samples//train_generator.batch_size ,\n",
    "      epochs=epochs,\n",
    "      validation_data=validation_generator,\n",
    "      validation_steps=validation_generator.samples//validation_generator.batch_size,\n",
    "      verbose=1)"
   ]
  },
  {
   "cell_type": "code",
   "execution_count": 0,
   "metadata": {
    "colab": {},
    "colab_type": "code",
    "id": "bsU-RD6OxIFM"
   },
   "outputs": [],
   "source": [
    "# Save Weights of the Model for Future Use\n",
    "model.save_weights('Model_DepthSeparable.h5')"
   ]
  },
  {
   "cell_type": "code",
   "execution_count": 0,
   "metadata": {
    "colab": {
     "base_uri": "https://localhost:8080/",
     "height": 585
    },
    "colab_type": "code",
    "id": "ZkngWOlnxNZl",
    "outputId": "0ede83f7-2fbe-4d77-ee68-a9908ce27a29"
   },
   "outputs": [
    {
     "data": {
      "image/png": "[encoded data removed]",
      "text/plain": [
       "<Figure size 432x288 with 1 Axes>"
      ]
     },
     "metadata": {
      "tags": []
     },
     "output_type": "display_data"
    },
    {
     "data": {
      "image/png": "[encoded data removed]",
      "text/plain": [
       "<Figure size 432x288 with 1 Axes>"
      ]
     },
     "metadata": {
      "tags": []
     },
     "output_type": "display_data"
    }
   ],
   "source": [
    "# Plot\n",
    "\n",
    "acc = history.history['acc']\n",
    "val_acc = history.history['val_acc']\n",
    "loss = history.history['loss']\n",
    "val_loss = history.history['val_loss']\n",
    " \n",
    "epochs = range(len(acc))\n",
    " \n",
    "plt.plot(epochs, acc, 'b', label='Training acc')\n",
    "plt.plot(epochs, val_acc, 'r', label='Validation acc')\n",
    "plt.title('Training and validation accuracy')\n",
    "plt.xlabel('Epochs')\n",
    "plt.ylabel('Accuracy')\n",
    "plt.legend()\n",
    " \n",
    "plt.figure()\n",
    " \n",
    "plt.plot(epochs, loss, 'b', label='Training loss')\n",
    "plt.plot(epochs, val_loss, 'r', label='Validation loss')\n",
    "plt.title('Training and validation loss')\n",
    "plt.xlabel('Epochs')\n",
    "plt.ylabel('Loss')\n",
    "plt.legend()\n",
    "plt.show()"
   ]
  },
  {
   "cell_type": "code",
   "execution_count": 0,
   "metadata": {
    "colab": {
     "base_uri": "https://localhost:8080/",
     "height": 51
    },
    "colab_type": "code",
    "id": "10Lxn3KOxSLL",
    "outputId": "73bcc891-de27-41f8-ace8-3842b507d807"
   },
   "outputs": [
    {
     "name": "stdout",
     "output_type": "stream",
     "text": [
      "Validation Accuracy: 0.5752089151899877\n",
      "Training Accuracy 0.5632798563704488\n"
     ]
    }
   ],
   "source": [
    "# Max Accuracy\n",
    "\n",
    "print(\"Validation Accuracy:\", max(history.history['val_acc']))\n",
    "print(\"Training Accuracy\", max(history.history['acc']))"
   ]
  }
 ],
 "metadata": {
  "accelerator": "GPU",
  "colab": {
   "collapsed_sections": [],
   "name": "Depth_Separable-2.ipynb",
   "provenance": [],
   "version": "0.3.2"
  },
  "kernelspec": {
   "display_name": "Python 3",
   "language": "python",
   "name": "python3"
  },
  "language_info": {
   "codemirror_mode": {
    "name": "ipython",
    "version": 3
   },
   "file_extension": ".py",
   "mimetype": "text/x-python",
   "name": "python",
   "nbconvert_exporter": "python",
   "pygments_lexer": "ipython3",
   "version": "3.6.5"
  }
 },
 "nbformat": 4,
 "nbformat_minor": 1
}
